{
 "cells": [
  {
   "cell_type": "markdown",
   "metadata": {},
   "source": [
    "# A Python Quick Start Tutorial - Part 6\n",
    "\n",
    "## by Peter Mackenzie-Helnwein\n",
    "University of Washington, Seattle, WA\n",
    "\n",
    "pmackenz@uw.edu          \n",
    "https://www.ce.washington.edu/facultyfinder/peter-mackenzie-helnwein"
   ]
  },
  {
   "cell_type": "markdown",
   "metadata": {},
   "source": [
    "# Modules\n",
    "\n",
    "Python comes with a huge range of extension libraries (modules: [module index](https://docs.python.org/3/py-modindex.html)), allowing us to dynamically extend its abilities.  Moreover, it is easy to create your own modules and share them with the python community.  We will only discuss the most basic version of creating and using your own modules.  Read [the respective chapter in the manual](https://docs.python.org/3/tutorial/modules.html) for a more detailed discussion.\n",
    "\n"
   ]
  },
  {
   "cell_type": "markdown",
   "metadata": {},
   "source": [
    "We already imported modules, namely numpy and matplotlib.  The command to use is **import**.  There are, however, many ways of importing modules or parts of modules:"
   ]
  },
  {
   "cell_type": "code",
   "execution_count": null,
   "metadata": {},
   "outputs": [],
   "source": [
    "import math\n",
    "\n",
    "math.sin(math.pi/3)"
   ]
  },
  {
   "cell_type": "code",
   "execution_count": null,
   "metadata": {},
   "outputs": [],
   "source": [
    "from math import pi, cos\n",
    "\n",
    "cos(pi/3)"
   ]
  },
  {
   "cell_type": "markdown",
   "metadata": {},
   "source": [
    "The second  form usually makes the code more readable.  However, modules may contain functions with identical names, e.g., the real analysis functions are contained in **math** while complex versions are contained in **cmath**.  In cases where both versions are needed, only the long option yields the necessary control."
   ]
  },
  {
   "cell_type": "code",
   "execution_count": null,
   "metadata": {},
   "outputs": [],
   "source": [
    "import cmath\n",
    "\n",
    "print(math.sin(pi/3), cmath.sin(pi/3))\n",
    "print(\"cmath.exp():\",cmath.sin(1.j*pi/3))\n",
    "\n",
    "try:\n",
    "    print(math.exp(1.j*pi/3))\n",
    "except:\n",
    "    print(\"math.exp():  requires a real argument\")"
   ]
  },
  {
   "cell_type": "markdown",
   "metadata": {},
   "source": [
    "Another useful feature of **import** is to assign aliases to a module.  This can be used to shorten the reference, as we did with **numpy**:"
   ]
  },
  {
   "cell_type": "code",
   "execution_count": null,
   "metadata": {},
   "outputs": [],
   "source": [
    "import numpy as np\n",
    "\n",
    "np.sin([0.1, 0.2, 0.3])"
   ]
  },
  {
   "cell_type": "markdown",
   "metadata": {},
   "source": [
    "Yet another use for aliasing is to easily switch between modules that perform similar tasks like, e.g., interface libraries to various database systems (the sample code is not designed to run, just to illustrate an easy switch between libraries without changing the rest of the code):"
   ]
  },
  {
   "cell_type": "code",
   "execution_count": null,
   "metadata": {},
   "outputs": [],
   "source": [
    "import sqlite3 as DBI\n",
    "# import mysqldb as DBI\n",
    "# import postgressql as DBI\n",
    "\n",
    "db = DBI.connect()\n",
    "cu = db.cursor()\n",
    "\n",
    "db.commit()"
   ]
  },
  {
   "cell_type": "markdown",
   "metadata": {},
   "source": [
    "## Building and using your simple modules\n",
    "\n",
    "The easiest form is to put one module into a single file.  This is the only way we will discuss in this tutorial."
   ]
  },
  {
   "cell_type": "markdown",
   "metadata": {},
   "source": [
    "The common problem with code is that what once started as something quick and simple grows over time into some very long files with hundreds of lines.  This makes code hard to read and maintain.  The solution is to change the coding style as follows.\n",
    "1. put every class in a single file named the classname.py\n",
    "2. files that use that class need to import that file as external library\n",
    "\n",
    "~~~\n",
    "from classname import *\n",
    "\n",
    "...\n",
    "\n",
    "a = classname(). # the constructor is called\n",
    "~~~\n",
    "\n",
    "This imports the class definition into the current namespace.  In the rare case that two files contain different implementations of the same class, we need to use separate name spaces:\n",
    "\n",
    "~~~\n",
    "import file1 as f1\n",
    "import file2 as f2\n",
    "\n",
    "...\n",
    "\n",
    "a = f1.classname()\n",
    "b = f2.classname()\n",
    "~~~\n",
    "\n",
    "<hr>\n",
    "\n",
    "Note the different styles:\n",
    "1. load everything into the current name space\n",
    "\n",
    "~~~\n",
    "from filename import *\n",
    "\n",
    "a = classname()\n",
    "~~~\n",
    "\n",
    "2. load into the default name space\n",
    "\n",
    "~~~\n",
    "import filename\n",
    "...\n",
    "a = filename.classname()\n",
    "~~~\n",
    "\n",
    "3. load into private name space using an alias (short form)\n",
    "\n",
    "~~~\n",
    "import some_very_long_module_name as mod\n",
    "...\n",
    "a = mod.classname()\n",
    "~~~\n",
    "\n",
    "We did use that option when importing matplotlib.pyplot as plt ;)"
   ]
  },
  {
   "cell_type": "markdown",
   "metadata": {},
   "source": [
    "## Writing demo and simple selftests for modules"
   ]
  },
  {
   "cell_type": "markdown",
   "metadata": {},
   "source": [
    "When putting code into an external file, we usually indent to import that file into some other code file or jupyter notebook.  However, we could also directly invoke that file directly from the commandline as (MacOS and Linux)\n",
    "~~~\n",
    "$ python3 my_class_file.py\n",
    "~~~\n",
    "or on Windows\n",
    "~~~\n",
    ">> python3.exe my_class_file.py\n",
    "~~~\n",
    "We can detect whether or not that file was executated directly or imported and, based on that information, run a demo or self test.  The mechanism is simple: upon loading a code file, python sets a series of private variables.  The one most useful here is \\_\\_name\\_\\_.  If the file is loaded as a module, \\_\\_name\\_\\_ is set to the filename of that python file.  If executed directly, \\_\\_name\\_\\_ is set to '\\_\\_main\\_\\_'.  We can exploit this by writing the file like this:"
   ]
  },
  {
   "cell_type": "code",
   "execution_count": null,
   "metadata": {},
   "outputs": [],
   "source": [
    "# this is my private_module.py file\n",
    "# it contains the definition for MyClass and a demo function.\n",
    "\n",
    "# all the module loading here\n",
    "import numpy as np\n",
    "\n",
    "# now the class definition\n",
    "class MyClass(object):\n",
    "    def __init__(self):\n",
    "        pass\n",
    "    \n",
    "    # ...\n",
    "    \n",
    "# now define a test or demo routine\n",
    "# this code shall be ignored by the importing file\n",
    "def main():\n",
    "    a = MyClass()\n",
    "    # some demo ops ...\n",
    "    \n",
    "# and now the actual execution ...\n",
    "if __name__ == '__main__':\n",
    "    main()"
   ]
  },
  {
   "cell_type": "markdown",
   "metadata": {},
   "source": [
    "main() will be executed if and only if \\_\\_name\\_\\_ == '\\_\\_main\\_\\_', i.e., if this file is being executed directly by the python interpreter."
   ]
  },
  {
   "cell_type": "markdown",
   "metadata": {},
   "source": [
    "### Example:  A Point class as a module\n",
    "\n",
    "Work in a file point.py in your notebook directory (I created a skeleton file for you already).  We can view it using the IPython.display module."
   ]
  },
  {
   "cell_type": "code",
   "execution_count": null,
   "metadata": {},
   "outputs": [],
   "source": [
    "import IPython\n",
    "IPython.display.Code(filename='point.py',language='python')"
   ]
  },
  {
   "cell_type": "markdown",
   "metadata": {},
   "source": [
    "First, let us import this code and create a Point object."
   ]
  },
  {
   "cell_type": "code",
   "execution_count": 1,
   "metadata": {},
   "outputs": [],
   "source": [
    "from point import *"
   ]
  },
  {
   "cell_type": "markdown",
   "metadata": {},
   "source": [
    "Note that demo was not executed at import.  However, we do have the definition of the Point class available as will be shown by the next statement."
   ]
  },
  {
   "cell_type": "code",
   "execution_count": 2,
   "metadata": {},
   "outputs": [
    {
     "name": "stdout",
     "output_type": "stream",
     "text": [
      "[-1.0, 2.0]\n"
     ]
    }
   ],
   "source": [
    "x = Point([-1,2.])\n",
    "print(x)"
   ]
  },
  {
   "cell_type": "markdown",
   "metadata": {},
   "source": [
    "However, when executed directly - which we will do via a subprocess -, the variable '\\_\\_name\\_\\_' is set accordingly and demo() will be executed.\n",
    "\n",
    "**Note**: you may need to adjust the path to the python executable accordingly."
   ]
  },
  {
   "cell_type": "code",
   "execution_count": 7,
   "metadata": {},
   "outputs": [
    {
     "name": "stdout",
     "output_type": "stream",
     "text": [
      "Hello, Frank!\n",
      "\n"
     ]
    }
   ],
   "source": [
    "import subprocess\n",
    "\n",
    "import os\n",
    "if os.name == 'posix':\n",
    "    executable = 'python3'\n",
    "else:\n",
    "    executable = 'python3.exe'\n",
    "\n",
    "out=subprocess.run([executable, 'hello.py'], capture_output=True)\n",
    "\n",
    "#print(out,'\\n')\n",
    "\n",
    "if out.stderr:\n",
    "    print(out.stderr.decode('utf8'))\n",
    "else:\n",
    "    print(out.stdout.decode('utf8'))"
   ]
  },
  {
   "cell_type": "markdown",
   "metadata": {},
   "source": [
    "<hr>\n",
    "\n",
    "[Jump to chapter 5: Classes](./05%20Classes.ipynb)\n",
    "\n",
    "[Jump to chapter 7: Machine learning](./07%20Machine%20Learning%20AI.ipynb)\n",
    "\n",
    "[Back to the outline](./00%20Outline.ipynb)"
   ]
  },
  {
   "cell_type": "code",
   "execution_count": null,
   "metadata": {},
   "outputs": [],
   "source": []
  }
 ],
 "metadata": {
  "kernelspec": {
   "display_name": "Python 3",
   "language": "python",
   "name": "python3"
  },
  "language_info": {
   "codemirror_mode": {
    "name": "ipython",
    "version": 3
   },
   "file_extension": ".py",
   "mimetype": "text/x-python",
   "name": "python",
   "nbconvert_exporter": "python",
   "pygments_lexer": "ipython3",
   "version": "3.8.5"
  }
 },
 "nbformat": 4,
 "nbformat_minor": 4
}
