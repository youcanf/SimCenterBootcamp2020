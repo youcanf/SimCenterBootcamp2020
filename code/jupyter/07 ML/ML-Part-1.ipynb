{
 "cells": [
  {
   "cell_type": "code",
   "execution_count": 2,
   "metadata": {
    "_cell_guid": "79c7e3d0-c299-4dcb-8224-4455121ee9b0",
    "_uuid": "d629ff2d2480ee46fbb7e2d37f6b5fab8052498a"
   },
   "outputs": [],
   "source": [
    "import numpy as np\n",
    "import pandas as pd\n",
    "import seaborn as sns\n",
    "from sklearn.model_selection import train_test_split"
   ]
  },
  {
   "cell_type": "markdown",
   "metadata": {},
   "source": [
    "## 1. Load data"
   ]
  },
  {
   "cell_type": "code",
   "execution_count": 3,
   "metadata": {},
   "outputs": [
    {
     "data": {
      "text/html": [
       "<div>\n",
       "<style scoped>\n",
       "    .dataframe tbody tr th:only-of-type {\n",
       "        vertical-align: middle;\n",
       "    }\n",
       "\n",
       "    .dataframe tbody tr th {\n",
       "        vertical-align: top;\n",
       "    }\n",
       "\n",
       "    .dataframe thead th {\n",
       "        text-align: right;\n",
       "    }\n",
       "</style>\n",
       "<table border=\"1\" class=\"dataframe\">\n",
       "  <thead>\n",
       "    <tr style=\"text-align: right;\">\n",
       "      <th></th>\n",
       "      <th>overall_building_condition</th>\n",
       "      <th>max_mph</th>\n",
       "      <th>age_yrs</th>\n",
       "      <th>number_of_stories</th>\n",
       "      <th>roof_shape</th>\n",
       "      <th>roof_cover</th>\n",
       "      <th>wall_cladding</th>\n",
       "      <th>structural_framing_system</th>\n",
       "    </tr>\n",
       "  </thead>\n",
       "  <tbody>\n",
       "    <tr>\n",
       "      <th>0</th>\n",
       "      <td>0</td>\n",
       "      <td>80</td>\n",
       "      <td>14.0</td>\n",
       "      <td>1.0</td>\n",
       "      <td>Complex</td>\n",
       "      <td>Tile (clay)</td>\n",
       "      <td>Stucco</td>\n",
       "      <td>Wood-frame</td>\n",
       "    </tr>\n",
       "    <tr>\n",
       "      <th>1</th>\n",
       "      <td>1</td>\n",
       "      <td>80</td>\n",
       "      <td>29.0</td>\n",
       "      <td>2.0</td>\n",
       "      <td>Gable</td>\n",
       "      <td>Tile (clay)</td>\n",
       "      <td>Stucco</td>\n",
       "      <td>Wood-frame</td>\n",
       "    </tr>\n",
       "    <tr>\n",
       "      <th>2</th>\n",
       "      <td>0</td>\n",
       "      <td>85</td>\n",
       "      <td>27.0</td>\n",
       "      <td>2.0</td>\n",
       "      <td>Complex</td>\n",
       "      <td>Tile (clay)</td>\n",
       "      <td>Stucco</td>\n",
       "      <td>Wood-frame</td>\n",
       "    </tr>\n",
       "    <tr>\n",
       "      <th>3</th>\n",
       "      <td>1</td>\n",
       "      <td>85</td>\n",
       "      <td>24.0</td>\n",
       "      <td>1.0</td>\n",
       "      <td>Hip</td>\n",
       "      <td>Asphalt shingles (laminated)</td>\n",
       "      <td>Stucco</td>\n",
       "      <td>Wood-frame</td>\n",
       "    </tr>\n",
       "    <tr>\n",
       "      <th>4</th>\n",
       "      <td>1</td>\n",
       "      <td>85</td>\n",
       "      <td>30.0</td>\n",
       "      <td>2.0</td>\n",
       "      <td>Gable</td>\n",
       "      <td>Asphalt shingles (laminated)</td>\n",
       "      <td>Wood Siding</td>\n",
       "      <td>Wood-frame</td>\n",
       "    </tr>\n",
       "    <tr>\n",
       "      <th>...</th>\n",
       "      <td>...</td>\n",
       "      <td>...</td>\n",
       "      <td>...</td>\n",
       "      <td>...</td>\n",
       "      <td>...</td>\n",
       "      <td>...</td>\n",
       "      <td>...</td>\n",
       "      <td>...</td>\n",
       "    </tr>\n",
       "    <tr>\n",
       "      <th>921</th>\n",
       "      <td>1</td>\n",
       "      <td>95</td>\n",
       "      <td>40.0</td>\n",
       "      <td>1.0</td>\n",
       "      <td>Gambrel</td>\n",
       "      <td>Asphalt shingles (3-tab)</td>\n",
       "      <td>Wood Siding</td>\n",
       "      <td>Wood-frame</td>\n",
       "    </tr>\n",
       "    <tr>\n",
       "      <th>922</th>\n",
       "      <td>1</td>\n",
       "      <td>90</td>\n",
       "      <td>38.0</td>\n",
       "      <td>1.0</td>\n",
       "      <td>Gable</td>\n",
       "      <td>Asphalt shingles (3-tab)</td>\n",
       "      <td>Wood Siding</td>\n",
       "      <td>Wood-frame</td>\n",
       "    </tr>\n",
       "    <tr>\n",
       "      <th>923</th>\n",
       "      <td>1</td>\n",
       "      <td>105</td>\n",
       "      <td>22.0</td>\n",
       "      <td>2.0</td>\n",
       "      <td>Gable</td>\n",
       "      <td>Asphalt shingles (3-tab)</td>\n",
       "      <td>Vinyl Siding</td>\n",
       "      <td>Wood-frame</td>\n",
       "    </tr>\n",
       "    <tr>\n",
       "      <th>924</th>\n",
       "      <td>0</td>\n",
       "      <td>100</td>\n",
       "      <td>16.0</td>\n",
       "      <td>1.0</td>\n",
       "      <td>Hip</td>\n",
       "      <td>Asphalt shingles (3-tab)</td>\n",
       "      <td>Stucco</td>\n",
       "      <td>Wood-frame</td>\n",
       "    </tr>\n",
       "    <tr>\n",
       "      <th>925</th>\n",
       "      <td>2</td>\n",
       "      <td>105</td>\n",
       "      <td>50.0</td>\n",
       "      <td>2.0</td>\n",
       "      <td>Gable</td>\n",
       "      <td>Asphalt shingles (3-tab)</td>\n",
       "      <td>Wood Siding</td>\n",
       "      <td>Wood-frame</td>\n",
       "    </tr>\n",
       "  </tbody>\n",
       "</table>\n",
       "<p>926 rows × 8 columns</p>\n",
       "</div>"
      ],
      "text/plain": [
       "     overall_building_condition  max_mph  age_yrs  number_of_stories  \\\n",
       "0                             0       80     14.0                1.0   \n",
       "1                             1       80     29.0                2.0   \n",
       "2                             0       85     27.0                2.0   \n",
       "3                             1       85     24.0                1.0   \n",
       "4                             1       85     30.0                2.0   \n",
       "..                          ...      ...      ...                ...   \n",
       "921                           1       95     40.0                1.0   \n",
       "922                           1       90     38.0                1.0   \n",
       "923                           1      105     22.0                2.0   \n",
       "924                           0      100     16.0                1.0   \n",
       "925                           2      105     50.0                2.0   \n",
       "\n",
       "    roof_shape                    roof_cover wall_cladding  \\\n",
       "0      Complex                   Tile (clay)        Stucco   \n",
       "1        Gable                   Tile (clay)        Stucco   \n",
       "2      Complex                   Tile (clay)        Stucco   \n",
       "3          Hip  Asphalt shingles (laminated)        Stucco   \n",
       "4        Gable  Asphalt shingles (laminated)   Wood Siding   \n",
       "..         ...                           ...           ...   \n",
       "921    Gambrel      Asphalt shingles (3-tab)   Wood Siding   \n",
       "922      Gable      Asphalt shingles (3-tab)   Wood Siding   \n",
       "923      Gable      Asphalt shingles (3-tab)  Vinyl Siding   \n",
       "924        Hip      Asphalt shingles (3-tab)        Stucco   \n",
       "925      Gable      Asphalt shingles (3-tab)   Wood Siding   \n",
       "\n",
       "    structural_framing_system  \n",
       "0                  Wood-frame  \n",
       "1                  Wood-frame  \n",
       "2                  Wood-frame  \n",
       "3                  Wood-frame  \n",
       "4                  Wood-frame  \n",
       "..                        ...  \n",
       "921                Wood-frame  \n",
       "922                Wood-frame  \n",
       "923                Wood-frame  \n",
       "924                Wood-frame  \n",
       "925                Wood-frame  \n",
       "\n",
       "[926 rows x 8 columns]"
      ]
     },
     "execution_count": 3,
     "metadata": {},
     "output_type": "execute_result"
    }
   ],
   "source": [
    "# Read data into a pandas dataframe\n",
    "all_data = pd.read_csv(\"Building_in_Hurricane.csv\")\n",
    "all_data"
   ]
  },
  {
   "cell_type": "markdown",
   "metadata": {},
   "source": [
    "## 2. Data preprocessing\n",
    "### Prepare input and output data"
   ]
  },
  {
   "cell_type": "code",
   "execution_count": 5,
   "metadata": {},
   "outputs": [
    {
     "name": "stdout",
     "output_type": "stream",
     "text": [
      "X shape:  (926, 7)\n",
      "X:  [[80 14.0 1.0 ... 'Tile (clay)' 'Stucco' 'Wood-frame']\n",
      " [80 29.0 2.0 ... 'Tile (clay)' 'Stucco' 'Wood-frame']\n",
      " [85 27.0 2.0 ... 'Tile (clay)' 'Stucco' 'Wood-frame']\n",
      " ...\n",
      " [105 22.0 2.0 ... 'Asphalt shingles (3-tab)' 'Vinyl Siding' 'Wood-frame']\n",
      " [100 16.0 1.0 ... 'Asphalt shingles (3-tab)' 'Stucco' 'Wood-frame']\n",
      " [105 50.0 2.0 ... 'Asphalt shingles (3-tab)' 'Wood Siding' 'Wood-frame']]\n",
      "y shape:  (926,)\n",
      "Y:  0      0\n",
      "1      1\n",
      "2      0\n",
      "3      1\n",
      "4      1\n",
      "      ..\n",
      "921    1\n",
      "922    1\n",
      "923    1\n",
      "924    0\n",
      "925    2\n",
      "Name: overall_building_condition, Length: 926, dtype: int64\n"
     ]
    }
   ],
   "source": [
    "X = all_data.iloc[:, [1,2,3,4,5,6,7]].values\n",
    "Y = all_data.iloc[:, 0]\n",
    "\n",
    "print('X shape: ', X.shape)\n",
    "print('X: ', X)\n",
    "print('y shape: ', Y.shape)\n",
    "print('Y: ', Y)"
   ]
  },
  {
   "cell_type": "code",
   "execution_count": 6,
   "metadata": {},
   "outputs": [
    {
     "data": {
      "text/plain": [
       "1    441\n",
       "0    288\n",
       "2    197\n",
       "Name: overall_building_condition, dtype: int64"
      ]
     },
     "execution_count": 6,
     "metadata": {},
     "output_type": "execute_result"
    }
   ],
   "source": [
    "Y.value_counts()"
   ]
  },
  {
   "cell_type": "markdown",
   "metadata": {},
   "source": [
    "### Encode categorical variables"
   ]
  },
  {
   "cell_type": "code",
   "execution_count": 7,
   "metadata": {},
   "outputs": [],
   "source": [
    "# Encoding Categorical Variables\n",
    "from sklearn import preprocessing\n",
    "le = preprocessing.LabelEncoder()\n",
    "\n",
    "X[:,3] = le.fit_transform(X[:,3]) #roof_shape\n",
    "X[:,4] = le.fit_transform(X[:,4]) #roof_cover\n",
    "X[:,5] = le.fit_transform(X[:,5]) #wall_cladding\n",
    "X[:,6] = le.fit_transform(X[:,6]) #structural_framing_system\n"
   ]
  },
  {
   "cell_type": "code",
   "execution_count": 8,
   "metadata": {},
   "outputs": [
    {
     "data": {
      "text/plain": [
       "2"
      ]
     },
     "execution_count": 8,
     "metadata": {},
     "output_type": "execute_result"
    }
   ],
   "source": [
    "X[1,3]"
   ]
  },
  {
   "cell_type": "code",
   "execution_count": 9,
   "metadata": {},
   "outputs": [],
   "source": [
    "class_names = ['No Damage','Moderately Damaged','Destroyed']"
   ]
  },
  {
   "cell_type": "markdown",
   "metadata": {},
   "source": [
    "### Split into train and test sets"
   ]
  },
  {
   "cell_type": "code",
   "execution_count": 10,
   "metadata": {},
   "outputs": [
    {
     "name": "stdout",
     "output_type": "stream",
     "text": [
      "X_train shape:  (740, 7)\n",
      "Y_train shape:  (740,)\n",
      "X_test shape:  (186, 7)\n",
      "Y_test shape:  (186,)\n"
     ]
    }
   ],
   "source": [
    "from sklearn.model_selection import train_test_split\n",
    "\n",
    "X_train, X_test, Y_train, Y_test = train_test_split(X, Y, test_size = 0.2, random_state=1993)\n",
    "\n",
    "print('X_train shape: ', X_train.shape)\n",
    "print('Y_train shape: ', Y_train.shape)\n",
    "print('X_test shape: ', X_test.shape)\n",
    "print('Y_test shape: ', Y_test.shape)\n"
   ]
  },
  {
   "cell_type": "markdown",
   "metadata": {},
   "source": [
    "## 3. MODELS"
   ]
  },
  {
   "cell_type": "markdown",
   "metadata": {},
   "source": [
    "### 3.1 Logistic Regression"
   ]
  },
  {
   "cell_type": "code",
   "execution_count": 11,
   "metadata": {},
   "outputs": [
    {
     "data": {
      "text/plain": [
       "LogisticRegression(max_iter=2000)"
      ]
     },
     "execution_count": 11,
     "metadata": {},
     "output_type": "execute_result"
    }
   ],
   "source": [
    "from sklearn.linear_model import LogisticRegression\n",
    "logisticRegressionModel = LogisticRegression(max_iter=2000)\n",
    "\n",
    "logisticRegressionModel.fit(X_train, Y_train)"
   ]
  },
  {
   "cell_type": "code",
   "execution_count": 13,
   "metadata": {},
   "outputs": [
    {
     "name": "stdout",
     "output_type": "stream",
     "text": [
      "LogisticRegression  Mean accuracy (train) is   :  0.5608108108108109\n",
      "LogisticRegression  Mean accuracy (test)  is   :  0.510752688172043\n",
      "LogisticRegression  F1 Score      (test)  is   :  0.510752688172043\n",
      "Confusion matrix, without normalization\n"
     ]
    },
    {
     "data": {
      "image/png": "[encoded data removed]",
      "text/plain": [
       "<Figure size 432x288 with 2 Axes>"
      ]
     },
     "metadata": {
      "needs_background": "light"
     },
     "output_type": "display_data"
    }
   ],
   "source": [
    "from plotUtils import plot_confusion_matrix\n",
    "from sklearn.metrics import confusion_matrix\n",
    "from sklearn.metrics import f1_score\n",
    "\n",
    "model = logisticRegressionModel\n",
    "\n",
    "print(type(model).__name__,' Mean accuracy (train) is   : ' ,model.score(X_train, Y_train))\n",
    "print(type(model).__name__,' Mean accuracy (test)  is   : ' ,model.score(X_test, Y_test))\n",
    "    \n",
    "Y_pred = model.predict(X_test)\n",
    "print(type(model).__name__,' F1 Score      (test)  is   : ' ,f1_score(Y_test.to_numpy(),Y_pred, average='micro'))\n",
    "cnf_matrix = confusion_matrix(Y_test.to_numpy(),Y_pred)\n",
    "plot_confusion_matrix(cnf_matrix, classes=class_names, title='Confusion matrix',normalize=False)\n"
   ]
  },
  {
   "cell_type": "markdown",
   "metadata": {},
   "source": [
    "### 3.2 Decision Tree "
   ]
  },
  {
   "cell_type": "code",
   "execution_count": 51,
   "metadata": {},
   "outputs": [
    {
     "data": {
      "text/plain": [
       "DecisionTreeClassifier(ccp_alpha=0.0, class_weight=None, criterion='gini',\n",
       "                       max_depth=None, max_features=None, max_leaf_nodes=None,\n",
       "                       min_impurity_decrease=0.0, min_impurity_split=None,\n",
       "                       min_samples_leaf=1, min_samples_split=2,\n",
       "                       min_weight_fraction_leaf=0.0, presort='deprecated',\n",
       "                       random_state=1993, splitter='best')"
      ]
     },
     "execution_count": 51,
     "metadata": {},
     "output_type": "execute_result"
    }
   ],
   "source": [
    "from sklearn.tree import DecisionTreeClassifier\n",
    "\n",
    "decisionTreeModel = DecisionTreeClassifier(max_depth=None, random_state = 1993)\n",
    "decisionTreeModel.fit(X_train, Y_train)"
   ]
  },
  {
   "cell_type": "code",
   "execution_count": 52,
   "metadata": {},
   "outputs": [
    {
     "name": "stdout",
     "output_type": "stream",
     "text": [
      "DecisionTreeClassifier  Mean accuracy (train) is   :  0.9702702702702702\n",
      "DecisionTreeClassifier  Mean accuracy (test)  is   :  0.5860215053763441\n",
      "DecisionTreeClassifier  F1 Score      (test)  is   :  0.5860215053763441\n",
      "Confusion matrix, without normalization\n"
     ]
    },
    {
     "data": {
      "image/png": "[encoded data removed]",
      "text/plain": [
       "<Figure size 432x288 with 2 Axes>"
      ]
     },
     "metadata": {
      "needs_background": "light"
     },
     "output_type": "display_data"
    }
   ],
   "source": [
    "from plotUtils import plot_confusion_matrix\n",
    "from sklearn.metrics import confusion_matrix\n",
    "from sklearn.metrics import f1_score\n",
    "\n",
    "model = decisionTreeModel\n",
    "\n",
    "print(type(model).__name__,' Mean accuracy (train) is   : ' ,model.score(X_train, Y_train))\n",
    "print(type(model).__name__,' Mean accuracy (test)  is   : ' ,model.score(X_test, Y_test))\n",
    "    \n",
    "Y_pred = model.predict(X_test)\n",
    "print(type(model).__name__,' F1 Score      (test)  is   : ' ,f1_score(Y_test.to_numpy(),Y_pred, average='micro'))\n",
    "cnf_matrix = confusion_matrix(Y_test.to_numpy(),Y_pred)\n",
    "plot_confusion_matrix(cnf_matrix, classes=class_names, title='Confusion matrix',normalize=False)\n"
   ]
  },
  {
   "cell_type": "markdown",
   "metadata": {},
   "source": [
    "### 3.3 Random Forest "
   ]
  },
  {
   "cell_type": "code",
   "execution_count": 14,
   "metadata": {},
   "outputs": [
    {
     "data": {
      "text/plain": [
       "RandomForestClassifier(max_depth=10, n_estimators=50, random_state=1993)"
      ]
     },
     "execution_count": 14,
     "metadata": {},
     "output_type": "execute_result"
    }
   ],
   "source": [
    "from sklearn.ensemble import RandomForestClassifier\n",
    "\n",
    "randomForestModel = RandomForestClassifier(n_estimators=50, max_depth=10, random_state = 1993)\n",
    "randomForestModel.fit(X_train, Y_train)"
   ]
  },
  {
   "cell_type": "code",
   "execution_count": 15,
   "metadata": {},
   "outputs": [
    {
     "name": "stdout",
     "output_type": "stream",
     "text": [
      "RandomForestClassifier  Mean accuracy (train) is   :  0.9216216216216216\n",
      "RandomForestClassifier  Mean accuracy (test)  is   :  0.6451612903225806\n",
      "RandomForestClassifier  F1 Score      (test)  is   :  0.6451612903225806\n",
      "Confusion matrix, without normalization\n"
     ]
    },
    {
     "data": {
      "image/png": "[encoded data removed]",
      "text/plain": [
       "<Figure size 432x288 with 2 Axes>"
      ]
     },
     "metadata": {
      "needs_background": "light"
     },
     "output_type": "display_data"
    }
   ],
   "source": [
    "from plotUtils import plot_confusion_matrix\n",
    "from sklearn.metrics import confusion_matrix\n",
    "from sklearn.metrics import f1_score\n",
    "\n",
    "model = randomForestModel\n",
    "\n",
    "print(type(model).__name__,' Mean accuracy (train) is   : ' ,model.score(X_train, Y_train))\n",
    "print(type(model).__name__,' Mean accuracy (test)  is   : ' ,model.score(X_test, Y_test))\n",
    "    \n",
    "Y_pred = model.predict(X_test)\n",
    "print(type(model).__name__,' F1 Score      (test)  is   : ' ,f1_score(Y_test.to_numpy(),Y_pred, average='micro'))\n",
    "cnf_matrix = confusion_matrix(Y_test.to_numpy(),Y_pred)\n",
    "plot_confusion_matrix(cnf_matrix, classes=class_names, title='Confusion matrix',normalize=False)\n"
   ]
  },
  {
   "cell_type": "markdown",
   "metadata": {},
   "source": [
    "### 3.4 K-Nearest Neighbors "
   ]
  },
  {
   "cell_type": "code",
   "execution_count": 18,
   "metadata": {},
   "outputs": [
    {
     "data": {
      "text/plain": [
       "KNeighborsClassifier(n_neighbors=6)"
      ]
     },
     "execution_count": 18,
     "metadata": {},
     "output_type": "execute_result"
    }
   ],
   "source": [
    "from sklearn.neighbors import KNeighborsClassifier\n",
    "\n",
    "knnModel = KNeighborsClassifier(n_neighbors = 6)\n",
    "\n",
    "knnModel.fit(X_train,Y_train)"
   ]
  },
  {
   "cell_type": "code",
   "execution_count": 19,
   "metadata": {},
   "outputs": [
    {
     "name": "stdout",
     "output_type": "stream",
     "text": [
      "KNeighborsClassifier  Mean accuracy (train) is   :  0.6851351351351351\n",
      "KNeighborsClassifier  Mean accuracy (test)  is   :  0.6236559139784946\n",
      "KNeighborsClassifier  F1 Score      (test)  is   :  0.6236559139784946\n",
      "Confusion matrix, without normalization\n"
     ]
    },
    {
     "data": {
      "image/png": "[encoded data removed]",
      "text/plain": [
       "<Figure size 432x288 with 2 Axes>"
      ]
     },
     "metadata": {
      "needs_background": "light"
     },
     "output_type": "display_data"
    }
   ],
   "source": [
    "from plotUtils import plot_confusion_matrix\n",
    "from sklearn.metrics import confusion_matrix\n",
    "from sklearn.metrics import f1_score\n",
    "\n",
    "model = knnModel\n",
    "\n",
    "print(type(model).__name__,' Mean accuracy (train) is   : ' ,model.score(X_train, Y_train))\n",
    "print(type(model).__name__,' Mean accuracy (test)  is   : ' ,model.score(X_test, Y_test))\n",
    "    \n",
    "Y_pred = model.predict(X_test)\n",
    "print(type(model).__name__,' F1 Score      (test)  is   : ' ,f1_score(Y_test.to_numpy(),Y_pred, average='micro'))\n",
    "cnf_matrix = confusion_matrix(Y_test.to_numpy(),Y_pred)\n",
    "plot_confusion_matrix(cnf_matrix, classes=class_names)"
   ]
  },
  {
   "cell_type": "markdown",
   "metadata": {},
   "source": [
    "### 3.5 Support Vector Machine\n"
   ]
  },
  {
   "cell_type": "code",
   "execution_count": 24,
   "metadata": {},
   "outputs": [
    {
     "data": {
      "text/plain": [
       "SVC(random_state=1993)"
      ]
     },
     "execution_count": 24,
     "metadata": {},
     "output_type": "execute_result"
    }
   ],
   "source": [
    "from sklearn.svm import SVC\n",
    "\n",
    "SVCModel = SVC(kernel= 'rbf', random_state = 1993)\n",
    "\n",
    "SVCModel.fit(X_train,Y_train)"
   ]
  },
  {
   "cell_type": "code",
   "execution_count": 25,
   "metadata": {},
   "outputs": [
    {
     "name": "stdout",
     "output_type": "stream",
     "text": [
      "SVC  Mean accuracy (train) is   :  0.5351351351351351\n",
      "SVC  Mean accuracy (test)  is   :  0.5268817204301075\n",
      "SVC  F1 Score      (test)  is   :  0.5268817204301075\n",
      "Confusion matrix, without normalization\n"
     ]
    },
    {
     "data": {
      "image/png": "[encoded data removed]",
      "text/plain": [
       "<Figure size 432x288 with 2 Axes>"
      ]
     },
     "metadata": {
      "needs_background": "light"
     },
     "output_type": "display_data"
    }
   ],
   "source": [
    "from plotUtils import plot_confusion_matrix\n",
    "from sklearn.metrics import confusion_matrix\n",
    "from sklearn.metrics import f1_score\n",
    "\n",
    "model = SVCModel\n",
    "\n",
    "print(type(model).__name__,' Mean accuracy (train) is   : ' ,model.score(X_train, Y_train))\n",
    "print(type(model).__name__,' Mean accuracy (test)  is   : ' ,model.score(X_test, Y_test))\n",
    "    \n",
    "Y_pred = model.predict(X_test)\n",
    "print(type(model).__name__,' F1 Score      (test)  is   : ' ,f1_score(Y_test.to_numpy(),Y_pred, average='micro'))\n",
    "cnf_matrix = confusion_matrix(Y_test.to_numpy(),Y_pred)\n",
    "plot_confusion_matrix(cnf_matrix, classes=class_names)"
   ]
  },
  {
   "cell_type": "markdown",
   "metadata": {},
   "source": [
    "## 3.6 Multilayer Perceptron (Neural Network)"
   ]
  },
  {
   "cell_type": "code",
   "execution_count": 36,
   "metadata": {},
   "outputs": [
    {
     "name": "stderr",
     "output_type": "stream",
     "text": [
      "C:\\ProgramData\\Anaconda3\\lib\\site-packages\\sklearn\\neural_network\\_multilayer_perceptron.py:585: ConvergenceWarning: Stochastic Optimizer: Maximum iterations (200) reached and the optimization hasn't converged yet.\n",
      "  % self.max_iter, ConvergenceWarning)\n"
     ]
    },
    {
     "data": {
      "text/plain": [
       "MLPClassifier(hidden_layer_sizes=10, random_state=1993)"
      ]
     },
     "execution_count": 36,
     "metadata": {},
     "output_type": "execute_result"
    }
   ],
   "source": [
    "from sklearn.neural_network import MLPClassifier\n",
    "\n",
    "MLPModel = MLPClassifier(hidden_layer_sizes=(10), random_state=1993)\n",
    "\n",
    "MLPModel.fit(X_train,Y_train)"
   ]
  },
  {
   "cell_type": "code",
   "execution_count": 37,
   "metadata": {},
   "outputs": [
    {
     "name": "stdout",
     "output_type": "stream",
     "text": [
      "MLPClassifier  Mean accuracy (train) is   :  0.5445945945945946\n",
      "MLPClassifier  Mean accuracy (test)  is   :  0.5752688172043011\n",
      "MLPClassifier  F1 Score      (test)  is   :  0.5752688172043011\n",
      "Confusion matrix, without normalization\n"
     ]
    },
    {
     "data": {
      "image/png": "[encoded data removed]",
      "text/plain": [
       "<Figure size 432x288 with 2 Axes>"
      ]
     },
     "metadata": {
      "needs_background": "light"
     },
     "output_type": "display_data"
    }
   ],
   "source": [
    "from plotUtils import plot_confusion_matrix\n",
    "from sklearn.metrics import confusion_matrix\n",
    "from sklearn.metrics import f1_score\n",
    "\n",
    "model = MLPModel\n",
    "\n",
    "print(type(model).__name__,' Mean accuracy (train) is   : ' ,model.score(X_train, Y_train))\n",
    "print(type(model).__name__,' Mean accuracy (test)  is   : ' ,model.score(X_test, Y_test))\n",
    "    \n",
    "Y_pred = model.predict(X_test)\n",
    "print(type(model).__name__,' F1 Score      (test)  is   : ' ,f1_score(Y_test.to_numpy(),Y_pred, average='micro'))\n",
    "cnf_matrix = confusion_matrix(Y_test.to_numpy(),Y_pred)\n",
    "plot_confusion_matrix(cnf_matrix, classes=class_names)"
   ]
  },
  {
   "cell_type": "code",
   "execution_count": null,
   "metadata": {},
   "outputs": [],
   "source": []
  }
 ],
 "metadata": {
  "kernelspec": {
   "display_name": "Python 3",
   "language": "python",
   "name": "python3"
  },
  "language_info": {
   "codemirror_mode": {
    "name": "ipython",
    "version": 3
   },
   "file_extension": ".py",
   "mimetype": "text/x-python",
   "name": "python",
   "nbconvert_exporter": "python",
   "pygments_lexer": "ipython3",
   "version": "3.7.1"
  }
 },
 "nbformat": 4,
 "nbformat_minor": 1
}
