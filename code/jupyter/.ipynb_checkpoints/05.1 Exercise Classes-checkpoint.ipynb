{
 "cells": [
  {
   "cell_type": "markdown",
   "metadata": {},
   "source": [
    "# Exercise 5: Classes"
   ]
  },
  {
   "cell_type": "markdown",
   "metadata": {},
   "source": [
    "## Problem 1:  The Bank Class\n",
    "\n",
    "Design a class representing a Bank with the following features:\n",
    "1. the constructor takes a bank's name as argument and remembers it.\n",
    "2. Can hold cash (store the balance)\n",
    "3. depositCash(x): takes \\$x and adds it to balance\n",
    "4. withdrawCash(x): if the bank has enough balance, hand out \\$x and reduce the balance; otherwise return 0\n",
    "5. when printed, write the bank's name and current balance"
   ]
  },
  {
   "cell_type": "code",
   "execution_count": 21,
   "metadata": {},
   "outputs": [],
   "source": [
    "# YOUR CLASS HERE\n",
    "class Bank(object):\n",
    "    \n",
    "    def __init__(self, name):\n",
    "        self.name = name\n",
    "        self.amount = 0\n",
    "    \n",
    "    def __str__(self):\n",
    "        return self.name\n",
    "    \n",
    "    def depositCash(self,X):\n",
    "        self.amount = self.amount + X\n",
    "        return self.amount\n",
    "    \n",
    "    def withdrawCash(self,Y):\n",
    "        self.amount = self.amount - Y\n",
    "        return self.amount"
   ]
  },
  {
   "cell_type": "code",
   "execution_count": 22,
   "metadata": {},
   "outputs": [
    {
     "name": "stdout",
     "output_type": "stream",
     "text": [
      "customer got $1050000\n",
      "Big Corporate Bank\n",
      "Credit Union\n",
      "customer got $850000\n",
      "Big Corporate Bank\n",
      "Credit Union\n",
      "customer got $650000\n",
      "Big Corporate Bank\n",
      "Credit Union\n"
     ]
    }
   ],
   "source": [
    "# tests\n",
    "bank1 = Bank('Big Corporate Bank')\n",
    "bank2 = Bank('Credit Union')\n",
    "\n",
    "# initial balance\n",
    "bank1.depositCash(1000000)\n",
    "bank2.depositCash(250000)\n",
    "\n",
    "# some transactions\n",
    "a = bank1.withdrawCash(100000)\n",
    "a += bank2.withdrawCash(100000)\n",
    "print(\"customer got ${}\".format(a))\n",
    "print(bank1)\n",
    "print(bank2)\n",
    "\n",
    "b = bank1.withdrawCash(100000)\n",
    "b += bank2.withdrawCash(100000)\n",
    "print(\"customer got ${}\".format(b))\n",
    "print(bank1)\n",
    "print(bank2)\n",
    "\n",
    "c = bank1.withdrawCash(100000)\n",
    "c += bank2.withdrawCash(100000)\n",
    "print(\"customer got ${}\".format(c))\n",
    "print(bank1)\n",
    "print(bank2)\n",
    "\n"
   ]
  },
  {
   "cell_type": "markdown",
   "metadata": {},
   "source": [
    "## Problem 2: A Logic class\n",
    "\n",
    "This example introduces an numeric data type (class) Logic, which shall serve as an alternative to boolean numbers and operations. \n",
    "1. Logic() shall hald a value of 0 (False) or 1 (True)\n",
    "   * Logic(True) shall set the value to 1\n",
    "   * Logic(False) shall set the value to 0\n",
    "2. A * B shall return a Logic() with the value of \"A and B\" (the logic \"and\")\n",
    "3. A + B shall return a Logic() with the value of \"A or B\" (the logic \"or\")\n",
    "4. A.not() shall return a Logic() with the value of \"not A\" (the logic \"not\")\n",
    "5. str(A) shall return strings 'T' if true and '' if false (empty string)\n"
   ]
  },
  {
   "cell_type": "code",
   "execution_count": 60,
   "metadata": {},
   "outputs": [],
   "source": [
    "class Logic(object):\n",
    "    \n",
    "    # your constructor, __str__\n",
    "    def __init__(self, b=False):\n",
    "        if b:\n",
    "            self.state = 1\n",
    "        else:\n",
    "            self.state = 0\n",
    "        \n",
    "    def __str__(self):\n",
    "        if self.state:\n",
    "            return 'T'\n",
    "        else:\n",
    "            return ''\n",
    "        \n",
    "    # the next method is a converter from Logic() to boolean\n",
    "    def __bool__(self):\n",
    "        if self.state:\n",
    "            return True\n",
    "        else:\n",
    "            return False\n",
    "        \n",
    "    # the rest of your code\n",
    "    def __add__(self,B):\n",
    "        # logical or\n",
    "        return Logic(self.state or B.state)   \n",
    "    \n",
    "    def __mul__(self,B):\n",
    "        # logical and\n",
    "        return Logic(self.state and B.state)  \n",
    "    \n",
    "    def N(self):\n",
    "        # logical and\n",
    "        return Logic(not self.state) \n",
    "        "
   ]
  },
  {
   "cell_type": "code",
   "execution_count": 61,
   "metadata": {},
   "outputs": [
    {
     "ename": "RecursionError",
     "evalue": "maximum recursion depth exceeded while calling a Python object",
     "output_type": "error",
     "traceback": [
      "\u001b[1;31m---------------------------------------------------------------------------\u001b[0m",
      "\u001b[1;31mRecursionError\u001b[0m                            Traceback (most recent call last)",
      "\u001b[1;32m<ipython-input-61-2c21569ded43>\u001b[0m in \u001b[0;36m<module>\u001b[1;34m\u001b[0m\n\u001b[1;32m----> 1\u001b[1;33m \u001b[0ma\u001b[0m\u001b[1;33m=\u001b[0m\u001b[0mLogic\u001b[0m\u001b[1;33m(\u001b[0m\u001b[1;32mTrue\u001b[0m\u001b[1;33m)\u001b[0m\u001b[1;33m\u001b[0m\u001b[1;33m\u001b[0m\u001b[0m\n\u001b[0m\u001b[0;32m      2\u001b[0m \u001b[0ma\u001b[0m\u001b[1;33m\u001b[0m\u001b[1;33m\u001b[0m\u001b[0m\n",
      "\u001b[1;32m<ipython-input-60-c4737d337e75>\u001b[0m in \u001b[0;36m__init__\u001b[1;34m(self, b)\u001b[0m\n\u001b[0;32m      7\u001b[0m         \u001b[1;32melse\u001b[0m\u001b[1;33m:\u001b[0m\u001b[1;33m\u001b[0m\u001b[1;33m\u001b[0m\u001b[0m\n\u001b[0;32m      8\u001b[0m             \u001b[0mself\u001b[0m\u001b[1;33m.\u001b[0m\u001b[0mstate\u001b[0m \u001b[1;33m=\u001b[0m \u001b[1;36m0\u001b[0m\u001b[1;33m\u001b[0m\u001b[1;33m\u001b[0m\u001b[0m\n\u001b[1;32m----> 9\u001b[1;33m         \u001b[0mself\u001b[0m\u001b[1;33m.\u001b[0m\u001b[0mN\u001b[0m\u001b[1;33m(\u001b[0m\u001b[1;33m)\u001b[0m\u001b[1;33m\u001b[0m\u001b[1;33m\u001b[0m\u001b[0m\n\u001b[0m\u001b[0;32m     10\u001b[0m \u001b[1;33m\u001b[0m\u001b[0m\n\u001b[0;32m     11\u001b[0m     \u001b[1;32mdef\u001b[0m \u001b[0m__str__\u001b[0m\u001b[1;33m(\u001b[0m\u001b[0mself\u001b[0m\u001b[1;33m)\u001b[0m\u001b[1;33m:\u001b[0m\u001b[1;33m\u001b[0m\u001b[1;33m\u001b[0m\u001b[0m\n",
      "\u001b[1;32m<ipython-input-60-c4737d337e75>\u001b[0m in \u001b[0;36mN\u001b[1;34m(self)\u001b[0m\n\u001b[0;32m     33\u001b[0m     \u001b[1;32mdef\u001b[0m \u001b[0mN\u001b[0m\u001b[1;33m(\u001b[0m\u001b[0mself\u001b[0m\u001b[1;33m)\u001b[0m\u001b[1;33m:\u001b[0m\u001b[1;33m\u001b[0m\u001b[1;33m\u001b[0m\u001b[0m\n\u001b[0;32m     34\u001b[0m         \u001b[1;31m# logical and\u001b[0m\u001b[1;33m\u001b[0m\u001b[1;33m\u001b[0m\u001b[1;33m\u001b[0m\u001b[0m\n\u001b[1;32m---> 35\u001b[1;33m         \u001b[1;32mreturn\u001b[0m \u001b[0mLogic\u001b[0m\u001b[1;33m(\u001b[0m\u001b[1;32mnot\u001b[0m \u001b[0mself\u001b[0m\u001b[1;33m.\u001b[0m\u001b[0mstate\u001b[0m\u001b[1;33m)\u001b[0m\u001b[1;33m\u001b[0m\u001b[1;33m\u001b[0m\u001b[0m\n\u001b[0m\u001b[0;32m     36\u001b[0m \u001b[1;33m\u001b[0m\u001b[0m\n",
      "... last 2 frames repeated, from the frame below ...\n",
      "\u001b[1;32m<ipython-input-60-c4737d337e75>\u001b[0m in \u001b[0;36m__init__\u001b[1;34m(self, b)\u001b[0m\n\u001b[0;32m      7\u001b[0m         \u001b[1;32melse\u001b[0m\u001b[1;33m:\u001b[0m\u001b[1;33m\u001b[0m\u001b[1;33m\u001b[0m\u001b[0m\n\u001b[0;32m      8\u001b[0m             \u001b[0mself\u001b[0m\u001b[1;33m.\u001b[0m\u001b[0mstate\u001b[0m \u001b[1;33m=\u001b[0m \u001b[1;36m0\u001b[0m\u001b[1;33m\u001b[0m\u001b[1;33m\u001b[0m\u001b[0m\n\u001b[1;32m----> 9\u001b[1;33m         \u001b[0mself\u001b[0m\u001b[1;33m.\u001b[0m\u001b[0mN\u001b[0m\u001b[1;33m(\u001b[0m\u001b[1;33m)\u001b[0m\u001b[1;33m\u001b[0m\u001b[1;33m\u001b[0m\u001b[0m\n\u001b[0m\u001b[0;32m     10\u001b[0m \u001b[1;33m\u001b[0m\u001b[0m\n\u001b[0;32m     11\u001b[0m     \u001b[1;32mdef\u001b[0m \u001b[0m__str__\u001b[0m\u001b[1;33m(\u001b[0m\u001b[0mself\u001b[0m\u001b[1;33m)\u001b[0m\u001b[1;33m:\u001b[0m\u001b[1;33m\u001b[0m\u001b[1;33m\u001b[0m\u001b[0m\n",
      "\u001b[1;31mRecursionError\u001b[0m: maximum recursion depth exceeded while calling a Python object"
     ]
    }
   ],
   "source": [
    "a=Logic(True)\n",
    "a\n"
   ]
  },
  {
   "cell_type": "code",
   "execution_count": 58,
   "metadata": {},
   "outputs": [
    {
     "name": "stdout",
     "output_type": "stream",
     "text": [
      "T\n",
      "1\n",
      "T\n"
     ]
    }
   ],
   "source": [
    "a=Logic(True)\n",
    "#a.__bool__() == True\n",
    "\n",
    "print(a)\n",
    "print(a.state)\n",
    "A = Logic(True)\n",
    "B = Logic(True)\n",
    "print (A+B)\n"
   ]
  },
  {
   "cell_type": "code",
   "execution_count": 54,
   "metadata": {},
   "outputs": [
    {
     "name": "stdout",
     "output_type": "stream",
     "text": [
      "'T' and 'T'='T'\n",
      "'T' or 'T'='T'\n",
      "'T' and ''=''\n",
      "'T' or ''='T'\n",
      "'T' and not ''='T'\n",
      "not '' or ''='T'\n"
     ]
    }
   ],
   "source": [
    "# testing your class\n",
    "A = Logic(True)\n",
    "B = Logic(True)\n",
    "C = Logic(False)\n",
    "D = Logic(False)\n",
    "\n",
    "if A*B:\n",
    "    print(\"'{}' and '{}'='{}'\".format(A,B,A*B))\n",
    "else:\n",
    "    raise\n",
    "\n",
    "if A+B:\n",
    "    print(\"'{}' or '{}'='{}'\".format(A,B,A+B))\n",
    "else:\n",
    "    raise\n",
    "\n",
    "if not (A*C):\n",
    "    print(\"'{}' and '{}'='{}'\".format(A,C,A*C))\n",
    "else:\n",
    "    raise\n",
    "\n",
    "if A+C:\n",
    "    print(\"'{}' or '{}'='{}'\".format(A,C,A+C))\n",
    "else:\n",
    "    raise\n",
    "\n",
    "if  A*(C.N()):\n",
    "    print(\"'{}' and not '{}'='{}'\".format(A,C,A*(C.N())))\n",
    "else:\n",
    "    raise\n",
    "\n",
    "if (D.N())+C:\n",
    "    print(\"not '{}' or '{}'='{}'\".format(D,C,(D.N())+C))\n",
    "else:\n",
    "    raise\n",
    "    "
   ]
  },
  {
   "cell_type": "markdown",
   "metadata": {},
   "source": [
    "## Problem 3: Inheritance\n",
    "\n",
    "This example shall illustrate inheritance using a set of companies as follows.\n",
    "1. the MomAndPopStore()\n",
    "   * holds cash as a float\n",
    "   * keeps list of inventory as dictionary with items as keys and number of available items as value\n",
    "   * keeps price list as dictionary with items as keys and price of available items as value\n",
    "   * issueInvoice for \\$X\n",
    "   * checkPrice for item\n",
    "      * returns the price item (that is the key)\n",
    "   * makePayment for \\$X:\n",
    "      * if enough cash available, subtract \\$X from cash and return X; return 0 otherwise\n",
    "   * takePayment for \\$X:\n",
    "      * add $X to cash\n",
    "   * takeOrder for one item from inventory: \n",
    "      * return True if available; False otherwise\n",
    "      * reduce inventory by one if available\n",
    "   * placeOrder for one item from vendor\n",
    "      \n",
    "   \n",
    "2. the WareHouse()\n",
    "   * holds cash as a float\n",
    "   * keeps list of inventory as dictionary with items as keys and number of available items as value\n",
    "   * keeps price list as dictionary with items as keys and price of available items as value\n",
    "   * issueInvoice for \\$X\n",
    "   * checkPrice for item\n",
    "      * returns the price item (that is the key)\n",
    "   * makePayment for \\$X:\n",
    "      * if enough cash available, subtract \\$X from cash and return X; return 0 otherwise\n",
    "   * takePayment for \\$X:\n",
    "      * add $X to cash\n",
    "   * takeOrder for N item from inventory: \n",
    "      * return True if N items are available; False otherwise\n",
    "      * reduce inventory by N if available\n",
    "      \n",
    "      \n",
    "3. the Customer()\n",
    "   * holds cash as a float\n",
    "   * getInvoice from vendor\n",
    "   * checkPrice for item\n",
    "      * returns the price item (that is the key)\n",
    "   * makePayment for \\$X:\n",
    "      * if enough cash available, subtract \\$X from cash and return X; return 0 otherwise\n",
    "   * takePayment for \\$X:\n",
    "      * add $X to cash\n",
    "   * placeOrder for one item from vendor\n",
    "\n",
    "<hr>\n",
    "\n",
    "**Your tasks**:\n",
    "1. Design a base class Common that implements everything that those players have in common\n",
    "2. Design the three classes using inheritance of the Common class and define ONLY THE NECESSARY methods\n",
    "3. Design of a function main() that creates \n",
    "   * 3 Customers: customerA, customerB, and customerC\n",
    "   * 2 MomAndPopStores: cornerStore and villageGrocery\n",
    "   * 2 WareHouses: veggieSupplier and countyButcher\n",
    "   * let each customer check for one item and, if s/he has enough \\$\\$, purchase one.  do the full transaction (main is the cashier taking cash from the customer and putting it in the bank.\n",
    "   * let each store buy 40 apples and 2 chickes from the respective WareHouse.  Also make sure money changes hands and inventory gets properly updated.\n",
    "4. Develop a way of testing against expectations such that you can convince first yourself, then me, that your code works properly.\n",
    "\n",
    "**THIS ONE SHOULD BE DONE BY TEAMS SINCE IT MAY BE TOO HARD FOR AN INDIVIDUAL**\n",
    "\n"
   ]
  },
  {
   "cell_type": "code",
   "execution_count": null,
   "metadata": {},
   "outputs": [],
   "source": []
  }
 ],
 "metadata": {
  "kernelspec": {
   "display_name": "Python 3",
   "language": "python",
   "name": "python3"
  },
  "language_info": {
   "codemirror_mode": {
    "name": "ipython",
    "version": 3
   },
   "file_extension": ".py",
   "mimetype": "text/x-python",
   "name": "python",
   "nbconvert_exporter": "python",
   "pygments_lexer": "ipython3",
   "version": "3.7.1"
  }
 },
 "nbformat": 4,
 "nbformat_minor": 4
}
